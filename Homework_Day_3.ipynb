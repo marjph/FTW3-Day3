{
  "nbformat": 4,
  "nbformat_minor": 0,
  "metadata": {
    "colab": {
      "name": "Homework Day 3.ipynb",
      "provenance": [],
      "include_colab_link": true
    },
    "kernelspec": {
      "name": "python3",
      "display_name": "Python 3"
    }
  },
  "cells": [
    {
      "cell_type": "markdown",
      "metadata": {
        "id": "view-in-github",
        "colab_type": "text"
      },
      "source": [
        "<a href=\"https://colab.research.google.com/github/marjph/FTW3-Day3/blob/master/Homework_Day_3.ipynb\" target=\"_parent\"><img src=\"https://colab.research.google.com/assets/colab-badge.svg\" alt=\"Open In Colab\"/></a>"
      ]
    },
    {
      "cell_type": "markdown",
      "metadata": {
        "id": "pyXTf-xhu3ZY",
        "colab_type": "text"
      },
      "source": [
        "Palindrome Checker"
      ]
    },
    {
      "cell_type": "code",
      "metadata": {
        "id": "TiTa-FmiuwiJ",
        "colab_type": "code",
        "colab": {
          "base_uri": "https://localhost:8080/",
          "height": 51
        },
        "outputId": "d192d023-6fbe-461d-a98e-3430472f0d0c"
      },
      "source": [
        "palindrome=input(\"Enter string:\")\n",
        "if(palindrome==palindrome[::-1]):\n",
        "      print(\"The string is a palindrome\")\n",
        "else:\n",
        "      print(\"The string isn't a palindrome\")"
      ],
      "execution_count": 4,
      "outputs": [
        {
          "output_type": "stream",
          "text": [
            "Enter string:madam\n",
            "The string is a palindrome\n"
          ],
          "name": "stdout"
        }
      ]
    },
    {
      "cell_type": "markdown",
      "metadata": {
        "id": "41tPIK0Vx54K",
        "colab_type": "text"
      },
      "source": [
        "Prime Number Checker"
      ]
    },
    {
      "cell_type": "code",
      "metadata": {
        "id": "4ikNi6Liu2pn",
        "colab_type": "code",
        "colab": {
          "base_uri": "https://localhost:8080/",
          "height": 51
        },
        "outputId": "dd6b2ba6-2538-497e-b93b-3b4bb9d99ef2"
      },
      "source": [
        "prime = int(input(\"Enter any number: \"))\n",
        "\n",
        "if prime > 1:\n",
        "    for i in range(2, prime):\n",
        "        if (prime % i) == 0:\n",
        "            print(prime, \"is not a prime number\")\n",
        "            break\n",
        "    else:\n",
        "        print(prime, \"is a prime number\")\n",
        "else:\n",
        "    print(prime, \"is not a prime number\")"
      ],
      "execution_count": 5,
      "outputs": [
        {
          "output_type": "stream",
          "text": [
            "Enter any number: 47\n",
            "47 is a prime number\n"
          ],
          "name": "stdout"
        }
      ]
    },
    {
      "cell_type": "markdown",
      "metadata": {
        "id": "9hsjnWAn0SM6",
        "colab_type": "text"
      },
      "source": [
        "Project Euler Problems"
      ]
    },
    {
      "cell_type": "markdown",
      "metadata": {
        "id": "9rAjFTvr00rw",
        "colab_type": "text"
      },
      "source": [
        "Prob Euler 3.The prime factors of 13195 are 5, 7, 13 and 29.\n",
        "\n",
        "What is the largest prime factor of the number 600851475143 ?"
      ]
    },
    {
      "cell_type": "code",
      "metadata": {
        "id": "gewrQbeX2CwJ",
        "colab_type": "code",
        "colab": {}
      },
      "source": [
        "import numpy as np"
      ],
      "execution_count": 0,
      "outputs": []
    },
    {
      "cell_type": "code",
      "metadata": {
        "id": "exE6-cPo0LWy",
        "colab_type": "code",
        "colab": {}
      },
      "source": [
        "def smallest_pf(number):\n",
        "    upper_bound = int(np.sqrt(number)) + 1\n",
        "\n",
        "    for i in range(2, upper_bound):\n",
        "        if number % i == 0:\n",
        "            return i\n",
        "\n",
        "    return number"
      ],
      "execution_count": 0,
      "outputs": []
    },
    {
      "cell_type": "code",
      "metadata": {
        "id": "Nwr_DWBU1SrN",
        "colab_type": "code",
        "colab": {}
      },
      "source": [
        "def largest_pf(number):\n",
        "    while True:\n",
        "        smallest_factor = smallest_pf(number)\n",
        "\n",
        "        if smallest_factor < number:\n",
        "            number //= smallest_factor\n",
        "        else:\n",
        "            return number"
      ],
      "execution_count": 0,
      "outputs": []
    },
    {
      "cell_type": "code",
      "metadata": {
        "id": "27rAaKE41fMG",
        "colab_type": "code",
        "colab": {
          "base_uri": "https://localhost:8080/",
          "height": 34
        },
        "outputId": "8d6d7c1f-55ea-4185-e220-3d2ddb4e5f0f"
      },
      "source": [
        "result = largest_pf(600851475143)\n",
        "print('result: ', result)"
      ],
      "execution_count": 18,
      "outputs": [
        {
          "output_type": "stream",
          "text": [
            "result:  6857\n"
          ],
          "name": "stdout"
        }
      ]
    },
    {
      "cell_type": "markdown",
      "metadata": {
        "id": "Aw9Y48qt2g9E",
        "colab_type": "text"
      },
      "source": [
        "Prob Euler 4. A palindromic number reads the same both ways. \n",
        "\n",
        "The largest palindrome made from the product of two 2-digit numbers is 9009 = 91 × 99.\n",
        "\n",
        "Find the largest palindrome made from the product of two 3-digit numbers."
      ]
    },
    {
      "cell_type": "code",
      "metadata": {
        "id": "2w7QhUba1uuS",
        "colab_type": "code",
        "colab": {
          "base_uri": "https://localhost:8080/",
          "height": 34
        },
        "outputId": "48ec8eb4-2360-417a-bc7b-5426bdbc2dea"
      },
      "source": [
        "def largest_palindrome():\n",
        "\n",
        "    all_palindromes = (i * j\n",
        "                       for i in reversed(range(100, 1000))\n",
        "                       for j in reversed(range(100, 1000))\n",
        "                       if str(i * j) == str(i * j)[::-1]\n",
        "                       )\n",
        "\n",
        "    return max(all_palindromes)\n",
        "\n",
        "result = largest_palindrome()\n",
        "print('result: ', result)"
      ],
      "execution_count": 19,
      "outputs": [
        {
          "output_type": "stream",
          "text": [
            "result:  906609\n"
          ],
          "name": "stdout"
        }
      ]
    },
    {
      "cell_type": "code",
      "metadata": {
        "id": "MMavdR343Jmf",
        "colab_type": "code",
        "colab": {}
      },
      "source": [
        ""
      ],
      "execution_count": 0,
      "outputs": []
    }
  ]
}